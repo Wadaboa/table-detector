{
 "metadata": {
  "language_info": {
   "codemirror_mode": {
    "name": "ipython",
    "version": 3
   },
   "file_extension": ".py",
   "mimetype": "text/x-python",
   "name": "python",
   "nbconvert_exporter": "python",
   "pygments_lexer": "ipython3",
   "version": "3.8.6-final"
  },
  "orig_nbformat": 2,
  "kernelspec": {
   "name": "python3",
   "display_name": "Python 3",
   "language": "python"
  }
 },
 "nbformat": 4,
 "nbformat_minor": 2,
 "cells": [
  {
   "source": [
    "# Table detector"
   ],
   "cell_type": "markdown",
   "metadata": {}
  },
  {
   "source": [
    "## Colab requirements"
   ],
   "cell_type": "markdown",
   "metadata": {}
  },
  {
   "source": [
    "Before restarting runtime (remeber to select GPU runtime)$\\dots$"
   ],
   "cell_type": "markdown",
   "metadata": {}
  },
  {
   "cell_type": "code",
   "execution_count": null,
   "metadata": {},
   "outputs": [],
   "source": [
    "!git clone https://github.com/Wadaboa/table-detector.git\n",
    "!pip install -r table-detector/init/colab_requirements.txt"
   ]
  },
  {
   "source": [
    "After restarting runtime$\\dots$"
   ],
   "cell_type": "markdown",
   "metadata": {}
  },
  {
   "cell_type": "code",
   "execution_count": null,
   "metadata": {},
   "outputs": [],
   "source": [
    "import os, sys\n",
    "\n",
    "sys.path.insert(0, \"/content/table-detector\")\n",
    "sys.path.insert(0, \"/content/table-detector/src\")\n",
    "os.chdir(\"/content/table-detector\")"
   ]
  },
  {
   "source": [
    "## Imports"
   ],
   "cell_type": "markdown",
   "metadata": {}
  },
  {
   "cell_type": "code",
   "execution_count": null,
   "metadata": {},
   "outputs": [],
   "source": [
    "import torch\n",
    "import wandb\n",
    "import yaml\n",
    "import ipywidgets as widgets\n",
    "import numpy as np\n",
    "import matplotlib.pyplot as plt\n",
    "from ipywidgets import interact, fixed\n",
    "\n",
    "import learning\n",
    "import transforms\n",
    "import detectors\n",
    "import utils\n",
    "import train\n",
    "from datasets import DATASETS\n",
    "from train import NUM_CLASSES"
   ]
  },
  {
   "source": [
    "## Initialization"
   ],
   "cell_type": "markdown",
   "metadata": {}
  },
  {
   "source": [
    "### Matplotlib"
   ],
   "cell_type": "markdown",
   "metadata": {}
  },
  {
   "cell_type": "code",
   "execution_count": null,
   "metadata": {},
   "outputs": [],
   "source": [
    "%matplotlib inline\n",
    "plt.rcParams['figure.figsize'] = [10, 12]\n",
    "plt.rcParams['figure.dpi'] = 100\n",
    "plt.rcParams['axes.xmargin'] = .05\n",
    "plt.rcParams['axes.ymargin'] = .05\n",
    "plt.style.use('ggplot')"
   ]
  },
  {
   "source": [
    "### Weights & biases"
   ],
   "cell_type": "markdown",
   "metadata": {}
  },
  {
   "cell_type": "code",
   "execution_count": null,
   "metadata": {},
   "outputs": [],
   "source": [
    "!wandb login"
   ]
  },
  {
   "cell_type": "code",
   "execution_count": null,
   "metadata": {},
   "outputs": [],
   "source": [
    "!wandb enabled"
   ]
  },
  {
   "source": [
    "### PyTorch and numpy"
   ],
   "cell_type": "markdown",
   "metadata": {}
  },
  {
   "cell_type": "code",
   "execution_count": null,
   "metadata": {},
   "outputs": [],
   "source": [
    "DEVICE = utils.get_device()\n",
    "DEVICE"
   ]
  },
  {
   "cell_type": "code",
   "execution_count": null,
   "metadata": {},
   "outputs": [],
   "source": [
    "if DEVICE.type != \"cpu\":\n",
    "    !nvidia-smi"
   ]
  },
  {
   "source": [
    "## Data loading"
   ],
   "cell_type": "markdown",
   "metadata": {}
  },
  {
   "cell_type": "code",
   "execution_count": null,
   "metadata": {},
   "outputs": [],
   "source": [
    "with open('parameters.yml', 'r') as conf:\n",
    "    args = yaml.load(conf, Loader=yaml.FullLoader)\n",
    "params = utils.Struct(**args)\n",
    "params.generic.device = DEVICE"
   ]
  },
  {
   "cell_type": "code",
   "execution_count": null,
   "metadata": {},
   "outputs": [],
   "source": [
    "train_dataset, test_dataset = train.get_dataset(params)"
   ]
  },
  {
   "cell_type": "code",
   "execution_count": null,
   "metadata": {},
   "outputs": [],
   "source": [
    "def show(img):\n",
    "    np_img = utils.to_numpy(img)\n",
    "    plt.imshow(np_img)\n",
    "\n",
    "def draw_predictions(image, boxes, scores, conf_thresh=0.5, width=4):\n",
    "    images = []\n",
    "    for image, _ in test_dataset[index]:\n",
    "        img = utils.denormalize_image(image)\n",
    "        colors = generate_colors(len(boxes))\n",
    "        img = utils.draw_bounding_boxes(img, boxes[scores >= conf_thresh], width=width, colors=colors)\n",
    "        images.append(img)\n",
    "    grid = torchvision.utils.make_grid(images)\n",
    "    show(grid)\n",
    "\n",
    "def draw_targets(index, width=4):\n",
    "    images = []\n",
    "    for image, target in train_dataset[index]:\n",
    "        img = utils.denormalize_image(image)\n",
    "        colors = generate_colors(len(target[\"boxes\"]))\n",
    "        img = utils.draw_bounding_boxes(img, target[\"boxes\"], width=width, colors=colors)\n",
    "        images.append(img)\n",
    "    grid = torchvision.utils.make_grid(images)\n",
    "    show(grid)"
   ]
  },
  {
   "cell_type": "code",
   "execution_count": null,
   "metadata": {},
   "outputs": [],
   "source": [
    "interact(draw_boxes, index=widgets.IntSlider(min=0, max=len(train_dataset), step=1, value=10));"
   ]
  },
  {
   "source": [
    "## Training"
   ],
   "cell_type": "markdown",
   "metadata": {}
  },
  {
   "cell_type": "code",
   "execution_count": null,
   "metadata": {},
   "outputs": [],
   "source": [
    "!python3 src/train.py"
   ]
  },
  {
   "source": [
    "### Testing"
   ],
   "cell_type": "markdown",
   "metadata": {}
  },
  {
   "cell_type": "code",
   "execution_count": null,
   "metadata": {},
   "outputs": [],
   "source": [
    "detector = detectors.get_detector(params, NUM_CLASSES)\n",
    "detector.to(params.generic.device)"
   ]
  },
  {
   "cell_type": "code",
   "execution_count": null,
   "metadata": {},
   "outputs": [],
   "source": [
    "image, target = test_dataset[10][0]\n",
    "detector.eval()\n",
    "res = detector([image.to('cuda:0')])"
   ]
  },
  {
   "cell_type": "code",
   "execution_count": null,
   "metadata": {},
   "outputs": [],
   "source": [
    "interact(\n",
    "    draw_boxes, image=fixed(image), boxes=fixed(res[0][\"boxes\"]), scores=fixed(res[0][\"scores\"]), \n",
    "    conf_thresh=widgets.FloatSlider(min=0.0, max=1.0, step=0.05, value=0.5)\n",
    ");"
   ]
  }
 ]
}