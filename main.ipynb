{
 "metadata": {
  "language_info": {
   "codemirror_mode": {
    "name": "ipython",
    "version": 3
   },
   "file_extension": ".py",
   "mimetype": "text/x-python",
   "name": "python",
   "nbconvert_exporter": "python",
   "pygments_lexer": "ipython3",
   "version": "3.8.6-final"
  },
  "orig_nbformat": 2,
  "kernelspec": {
   "name": "python3",
   "display_name": "Python 3",
   "language": "python"
  }
 },
 "nbformat": 4,
 "nbformat_minor": 2,
 "cells": [
  {
   "source": [
    "# Table detector"
   ],
   "cell_type": "markdown",
   "metadata": {}
  },
  {
   "source": [
    "## Colab requirements"
   ],
   "cell_type": "markdown",
   "metadata": {}
  },
  {
   "source": [
    "Before restarting runtime (remember to select GPU runtime)$\\dots$"
   ],
   "cell_type": "markdown",
   "metadata": {}
  },
  {
   "cell_type": "code",
   "execution_count": null,
   "metadata": {},
   "outputs": [],
   "source": [
    "!git clone https://github.com/Wadaboa/table-detector.git\n",
    "!pip install -r table-detector/init/colab_requirements.txt"
   ]
  },
  {
   "source": [
    "After restarting runtime$\\dots$"
   ],
   "cell_type": "markdown",
   "metadata": {}
  },
  {
   "cell_type": "code",
   "execution_count": null,
   "metadata": {},
   "outputs": [],
   "source": [
    "import os, sys\n",
    "\n",
    "sys.path.insert(0, \"/content/table-detector\")\n",
    "sys.path.insert(0, \"/content/table-detector/src\")\n",
    "os.chdir(\"/content/table-detector\")"
   ]
  },
  {
   "source": [
    "## Imports"
   ],
   "cell_type": "markdown",
   "metadata": {}
  },
  {
   "cell_type": "code",
   "execution_count": null,
   "metadata": {},
   "outputs": [],
   "source": [
    "import torch\n",
    "import wandb\n",
    "import yaml\n",
    "import ipywidgets as widgets\n",
    "import numpy as np\n",
    "import matplotlib.pyplot as plt\n",
    "from ipywidgets import interact, fixed\n",
    "\n",
    "import learning\n",
    "import transforms\n",
    "import detectors\n",
    "import utils\n",
    "import train"
   ]
  },
  {
   "source": [
    "## Initialization"
   ],
   "cell_type": "markdown",
   "metadata": {}
  },
  {
   "source": [
    "### Matplotlib"
   ],
   "cell_type": "markdown",
   "metadata": {}
  },
  {
   "cell_type": "code",
   "execution_count": null,
   "metadata": {},
   "outputs": [],
   "source": [
    "%matplotlib inline\n",
    "plt.rcParams['figure.figsize'] = [10, 12]\n",
    "plt.rcParams['figure.dpi'] = 100\n",
    "plt.rcParams['axes.xmargin'] = .05\n",
    "plt.rcParams['axes.ymargin'] = .05\n",
    "plt.style.use('ggplot')"
   ]
  },
  {
   "source": [
    "### Weights & biases"
   ],
   "cell_type": "markdown",
   "metadata": {}
  },
  {
   "cell_type": "code",
   "execution_count": null,
   "metadata": {},
   "outputs": [],
   "source": [
    "!wandb login"
   ]
  },
  {
   "cell_type": "code",
   "execution_count": null,
   "metadata": {},
   "outputs": [],
   "source": [
    "!wandb enabled"
   ]
  },
  {
   "source": [
    "### PyTorch and numpy"
   ],
   "cell_type": "markdown",
   "metadata": {}
  },
  {
   "cell_type": "code",
   "execution_count": null,
   "metadata": {},
   "outputs": [],
   "source": [
    "DEVICE = utils.get_device()\n",
    "DEVICE"
   ]
  },
  {
   "cell_type": "code",
   "execution_count": null,
   "metadata": {},
   "outputs": [],
   "source": [
    "if DEVICE.type != \"cpu\":\n",
    "    !nvidia-smi"
   ]
  },
  {
   "source": [
    "## Utils"
   ],
   "cell_type": "markdown",
   "metadata": {}
  },
  {
   "cell_type": "code",
   "execution_count": null,
   "metadata": {},
   "outputs": [],
   "source": [
    "def show(img):\n",
    "    np_img = utils.to_numpy(img)\n",
    "    plt.imshow(np_img)\n",
    "\n",
    "def draw_predictions(dataset, index, model, conf_thresh=0.5, width=4):\n",
    "    images = []\n",
    "    for image, _ in dataset[index]:\n",
    "        output = model(image)\n",
    "        boxes = output[\"boxes\"][output[\"scores\"] >= conf_thresh]\n",
    "        colors = generate_colors(len(output[\"boxes\"]))\n",
    "        img = utils.draw_bounding_boxes(\n",
    "            utils.denormalize_image(image), boxes, width=width, colors=colors\n",
    "        )\n",
    "        images.append(img)\n",
    "    grid = torchvision.utils.make_grid(images)\n",
    "    show(grid)\n",
    "\n",
    "def draw_targets(dataset, index, width=4):\n",
    "    images = []\n",
    "    for image, target in dataset[index]:\n",
    "        colors = generate_colors(len(target[\"boxes\"]))\n",
    "        img = utils.draw_bounding_boxes(\n",
    "            utils.denormalize_image(image), target[\"boxes\"], width=width, colors=colors\n",
    "        )\n",
    "        images.append(img)\n",
    "    grid = torchvision.utils.make_grid(images)\n",
    "    show(grid)"
   ]
  },
  {
   "source": [
    "## Data loading"
   ],
   "cell_type": "markdown",
   "metadata": {}
  },
  {
   "cell_type": "code",
   "execution_count": null,
   "metadata": {},
   "outputs": [],
   "source": [
    "with open('parameters.yml', 'r') as conf:\n",
    "    args = yaml.load(conf, Loader=yaml.FullLoader)\n",
    "params = utils.Struct(**args)\n",
    "params.generic.device = DEVICE\n",
    "args"
   ]
  },
  {
   "cell_type": "code",
   "execution_count": null,
   "metadata": {},
   "outputs": [],
   "source": [
    "train_dataset, test_dataset = train.get_dataset(params)"
   ]
  },
  {
   "cell_type": "code",
   "execution_count": null,
   "metadata": {},
   "outputs": [],
   "source": [
    "interact(\n",
    "    draw_targets, \n",
    "    dataset=fixed(train_dataset), \n",
    "    index=widgets.IntSlider(min=0, max=len(train_dataset), step=1, value=10)\n",
    ");"
   ]
  },
  {
   "source": [
    "## Training"
   ],
   "cell_type": "markdown",
   "metadata": {}
  },
  {
   "cell_type": "code",
   "execution_count": null,
   "metadata": {},
   "outputs": [],
   "source": [
    "train_dataloader = train.get_train_dataloader(params, train_dataset)\n",
    "test_dataloader = train.get_test_dataloader(params, test_dataset)"
   ]
  },
  {
   "cell_type": "code",
   "execution_count": null,
   "metadata": {},
   "outputs": [],
   "source": [
    "detector = detectors.get_detector(params, train.NUM_CLASSES)\n",
    "detector.to(DEVICE)"
   ]
  },
  {
   "cell_type": "code",
   "execution_count": null,
   "metadata": {},
   "outputs": [],
   "source": [
    "train.wandb_init(params, args)\n",
    "train.wandb_watch(params, detector)"
   ]
  },
  {
   "cell_type": "code",
   "execution_count": null,
   "metadata": {},
   "outputs": [],
   "source": [
    "optimizer = train.get_optimizer(params, detector)\n",
    "lr_scheduler = train.get_lr_scheduler(params, optimizer)"
   ]
  },
  {
   "cell_type": "code",
   "execution_count": null,
   "metadata": {},
   "outputs": [],
   "source": [
    "learning.training_loop(\n",
    "    params, detector, optimizer, train_dataloader,\n",
    "    test_dataloader, lr_scheduler=lr_scheduler\n",
    ")"
   ]
  },
  {
   "cell_type": "code",
   "execution_count": null,
   "metadata": {},
   "outputs": [],
   "source": [
    "train.wandb_finish()"
   ]
  },
  {
   "source": [
    "## Testing"
   ],
   "cell_type": "markdown",
   "metadata": {}
  },
  {
   "cell_type": "code",
   "execution_count": null,
   "metadata": {},
   "outputs": [],
   "source": [
    "detector.eval()"
   ]
  },
  {
   "cell_type": "code",
   "execution_count": null,
   "metadata": {},
   "outputs": [],
   "source": [
    "interact(\n",
    "    draw_predictions, \n",
    "    dataset=fixed(test_dataset),\n",
    "    index=widgets.IntSlider(min=0, max=len(test_dataset), step=1, value=10),\n",
    "    model=fixed(detector),\n",
    "    conf_thresh=widgets.FloatSlider(min=0.0, max=1.0, step=0.05, value=0.5)\n",
    ");"
   ]
  }
 ]
}